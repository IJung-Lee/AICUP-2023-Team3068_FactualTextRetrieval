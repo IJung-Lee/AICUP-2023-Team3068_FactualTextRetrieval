{
 "cells": [
  {
   "cell_type": "code",
   "execution_count": 1,
   "id": "3d7ee826",
   "metadata": {},
   "outputs": [],
   "source": [
    "'''\n",
    "https://github.com/01joy/news-search-engine/tree/master\n",
    "https://github.com/isnowfy/snownlp/blob/master/snownlp/sim/bm25.py\n",
    "'''\n",
    "\n",
    "import jieba\n",
    "import jieba.posseg as pseg\n",
    "import math\n",
    "import operator\n",
    "import sqlite3\n",
    "import pandas as pd\n",
    "from tqdm import tqdm\n",
    "import json\n",
    "import pickle\n",
    "\n",
    "import warnings\n",
    "warnings.filterwarnings('ignore')"
   ]
  },
  {
   "cell_type": "code",
   "execution_count": 2,
   "id": "16ba7928",
   "metadata": {},
   "outputs": [
    {
     "name": "stderr",
     "output_type": "stream",
     "text": [
      "Building prefix dict from the default dictionary ...\n",
      "Loading model from cache /var/folders/46/bn7t4hx56ws0wqtm45j0m6_r0000gn/T/jieba.cache\n",
      "Loading model cost 0.460 seconds.\n",
      "Prefix dict has been built successfully.\n"
     ]
    }
   ],
   "source": [
    "jieba.load_userdict('./Doc_retrieval/userdict.txt')\n",
    "f = open('./Doc_retrieval/stopwords.txt', encoding = 'utf-8')\n",
    "words = f.read()\n",
    "stop_words = set(words.split('\\n'))"
   ]
  },
  {
   "cell_type": "code",
   "execution_count": 3,
   "id": "ef53aa85",
   "metadata": {},
   "outputs": [],
   "source": [
    "wiki = pd.read_csv('./Wiki/wiki_clean_numtext_doc.csv', keep_default_na=False, na_values=[' '])\n",
    "# wiki = pd.read_csv('./Wiki/wiki_clean_doc.csv', keep_default_na=False, na_values=[' '], encoding='utf-8')"
   ]
  },
  {
   "cell_type": "code",
   "execution_count": 4,
   "id": "8d069ac9",
   "metadata": {},
   "outputs": [],
   "source": [
    "def clean_list(seg_list):\n",
    "    cleaned_dict = {}\n",
    "    for i in seg_list:\n",
    "        i = i.strip().lower()\n",
    "        if i != '' and (i not in stop_words):\n",
    "            if i in cleaned_dict:\n",
    "                cleaned_dict[i] = cleaned_dict[i] + 1\n",
    "            else:\n",
    "                cleaned_dict[i] = 1\n",
    "    return cleaned_dict\n",
    "\n",
    "def fetch_from_db(db, term):\n",
    "    c = db.cursor()\n",
    "    c.execute('SELECT * FROM postings WHERE term=?', (term,))\n",
    "    return(c.fetchone())"
   ]
  },
  {
   "cell_type": "code",
   "execution_count": 5,
   "id": "06327063",
   "metadata": {},
   "outputs": [],
   "source": [
    "conn = sqlite3.connect('./Doc_retrieval/ir.db') #V1~V3\n",
    "cont = sqlite3.connect('./Doc_retrieval/ir_title.db') #V1~V3\n",
    "# conn = sqlite3.connect('./Doc_retrieval/ir_withENG.db') #V4\n",
    "# cont = sqlite3.connect('./Doc_retrieval/ir_title_lower.db') #V4\n",
    "# K1 = 1.2\n",
    "# # K1 = 1.5\n",
    "# B = 0.75\n",
    "# N = len(wiki)\n",
    "# AVG_L = 32\n",
    "# # AVG_L = 130"
   ]
  },
  {
   "cell_type": "code",
   "execution_count": 6,
   "id": "d19e7169",
   "metadata": {},
   "outputs": [],
   "source": [
    "'''\n",
    "V2\n",
    "K1 = 1.2\n",
    "B = 0.75\n",
    "N = len(wiki)\n",
    "AVG_L = 32\n",
    "======================\n",
    "V3\n",
    "K1 = 1.2\n",
    "B = 0.75\n",
    "N = len(wiki)\n",
    "AVG_L = 130\n",
    "======================\n",
    "V4\n",
    "K1 = 1.2\n",
    "B = 0.75\n",
    "N = len(wiki)\n",
    "AVG_L = 130\n",
    "'''\n",
    "K1 = 1.2\n",
    "B = 0.75\n",
    "N = len(wiki)\n",
    "AVG_L = 130\n",
    "def BM25F(sentence):\n",
    "    words = pseg.cut(sentence)\n",
    "    seg_list = [w.word for w in words if (w.flag.startswith('n') or w.flag.startswith('v'))] # V1~V3\n",
    "#     seg_list = [w.word for w in words if (w.flag.startswith('n') or w.flag.startswith('v') or w.flag.startswith('eng'))] # V4\n",
    "    cleaned_dict = clean_list(seg_list)\n",
    "    BM25_scores = {}\n",
    "    for term in cleaned_dict.keys():\n",
    "        r = fetch_from_db(conn, term.lower())\n",
    "        t = fetch_from_db(cont, term.lower())\n",
    "        if (r is None) and (t is None):\n",
    "            continue\n",
    "        if t is None:\n",
    "            title = []\n",
    "        else:\n",
    "            titles = t[2].split('\\n')\n",
    "            df_t = t[1]\n",
    "            idf_t = math.log2((N - df_t + 0.5) / (df_t + 0.5)) #idf\n",
    "            f = idf_t/(df_t + K1)\n",
    "        try:\n",
    "            docs = r[2].split('\\n')\n",
    "            df = r[1]\n",
    "            idf = math.log2((N - df + 0.5) / (df + 0.5)) #idf\n",
    "            for doc in docs:\n",
    "                docid, tf, ld = doc.split('\\t')\n",
    "                docid = int(docid)\n",
    "                tf = int(tf)\n",
    "                ld = int(ld)\n",
    "                if str(docid) in titles:\n",
    "                    s = (K1 * tf * idf) / (tf + K1 * (1 - B + B * ld / AVG_L))\n",
    "                    s = (s * (K1 + f)) / (f * B)\n",
    "                else:\n",
    "                    s = (K1 * tf * idf) / (tf + K1 * (1 - B + B * ld / AVG_L))\n",
    "                if docid in BM25_scores:\n",
    "                    BM25_scores[docid] = BM25_scores[docid] + s\n",
    "                else:\n",
    "                    BM25_scores[docid] = s\n",
    "        except:pass\n",
    "        try:\n",
    "            for title in titles:\n",
    "                title = int(title)\n",
    "#                 f = idf_t/(df_t + K1)\n",
    "#                 f = idf_t/(df_t)\n",
    "                if title not in BM25_scores:\n",
    "                    BM25_scores[title] = f\n",
    "        except:pass\n",
    "    BM25_scores = sorted(BM25_scores.items(), key = operator.itemgetter(1))\n",
    "    BM25_scores.reverse()\n",
    "    if len(BM25_scores) == 0:\n",
    "        return []\n",
    "#         return 0, []\n",
    "    else:\n",
    "        return BM25_scores\n",
    "#         return 1, BM25_scores"
   ]
  },
  {
   "cell_type": "code",
   "execution_count": 7,
   "id": "0a2088b6",
   "metadata": {},
   "outputs": [],
   "source": [
    "# '''\n",
    "# V1\n",
    "# K1 = 1.5\n",
    "# B = 0.75\n",
    "# N = len(wiki)\n",
    "# AVG_L = 130\n",
    "# '''\n",
    "# K1 = 1.5\n",
    "# B = 0.75\n",
    "# N = len(wiki)\n",
    "# AVG_L = 130\n",
    "\n",
    "# def BM25F(sentence):\n",
    "#     words = pseg.cut(sentence)\n",
    "#     seg_list = [w.word for w in words if (w.flag.startswith('n') or w.flag.startswith('v'))]\n",
    "#     cleaned_dict = clean_list(seg_list)\n",
    "#     BM25_scores = {}\n",
    "#     for term in cleaned_dict.keys():\n",
    "#         r = fetch_from_db(conn, term)\n",
    "#         t = fetch_from_db(cont, term)\n",
    "#         if r and t is None:\n",
    "#             continue\n",
    "#         try:\n",
    "#             titles = t[2].split('\\n')\n",
    "#             df_t = t[1]\n",
    "#             idf_t = math.log2((N - df_t + 0.5) / (df_t + 0.5)) #idf\n",
    "#             for title in titles:\n",
    "#                 title = int(title)\n",
    "#                 f = idf_t/(df_t)\n",
    "#                 if title in BM25_scores:\n",
    "#                     BM25_scores[title] = BM25_scores[title] + f\n",
    "#                 else:\n",
    "#                     BM25_scores[title] = f\n",
    "#         except:pass\n",
    "#         try:\n",
    "#             df = r[1]\n",
    "#             idf = math.log2((N - df + 0.5) / (df + 0.5)) #idf\n",
    "#             docs = r[2].split('\\n')\n",
    "#             for doc in docs:\n",
    "#                 docid, tf, ld = doc.split('\\t')\n",
    "#                 docid = int(docid)\n",
    "#                 tf = int(tf)\n",
    "#                 ld = int(ld)\n",
    "#                 s = (K1 * tf * idf) / (tf + K1 * (1 - B + B * ld / AVG_L))\n",
    "#                 if docid in BM25_scores:\n",
    "#                     BM25_scores[docid] = BM25_scores[docid] + s\n",
    "#                 else:\n",
    "#                     BM25_scores[docid] = s\n",
    "#         except:pass\n",
    "#     BM25_scores = sorted(BM25_scores.items(), key = operator.itemgetter(1))\n",
    "#     BM25_scores.reverse()\n",
    "#     if len(BM25_scores) == 0:\n",
    "#         return []\n",
    "# #         return 0, []\n",
    "#     else:\n",
    "#         return BM25_scores\n",
    "# #         return 1, BM25_scores"
   ]
  },
  {
   "cell_type": "markdown",
   "id": "09238257",
   "metadata": {},
   "source": [
    "## Tarin"
   ]
  },
  {
   "cell_type": "code",
   "execution_count": 7,
   "id": "9922886d",
   "metadata": {},
   "outputs": [],
   "source": [
    "# train = pd.read_json(path_or_buf='./訓練資料集/public_train_0316.jsonl', lines=True)\n",
    "train = pd.read_json(path_or_buf='./訓練資料集/public_train_0522.jsonl', lines=True)"
   ]
  },
  {
   "cell_type": "code",
   "execution_count": 8,
   "id": "80845af6",
   "metadata": {},
   "outputs": [
    {
     "data": {
      "text/html": [
       "<div>\n",
       "<style scoped>\n",
       "    .dataframe tbody tr th:only-of-type {\n",
       "        vertical-align: middle;\n",
       "    }\n",
       "\n",
       "    .dataframe tbody tr th {\n",
       "        vertical-align: top;\n",
       "    }\n",
       "\n",
       "    .dataframe thead th {\n",
       "        text-align: right;\n",
       "    }\n",
       "</style>\n",
       "<table border=\"1\" class=\"dataframe\">\n",
       "  <thead>\n",
       "    <tr style=\"text-align: right;\">\n",
       "      <th></th>\n",
       "      <th>id</th>\n",
       "      <th>label</th>\n",
       "      <th>claim</th>\n",
       "      <th>evidence</th>\n",
       "    </tr>\n",
       "  </thead>\n",
       "  <tbody>\n",
       "    <tr>\n",
       "      <th>0</th>\n",
       "      <td>14301</td>\n",
       "      <td>NOT ENOUGH INFO</td>\n",
       "      <td>崔維斯·米勒是退役美國職業棒球大聯盟投手，目前于飛機擔任運動指導員。</td>\n",
       "      <td>[[13414, None, None, None]]</td>\n",
       "    </tr>\n",
       "    <tr>\n",
       "      <th>1</th>\n",
       "      <td>2469</td>\n",
       "      <td>supports</td>\n",
       "      <td>氣象衛星是一種人造衛星，可以呈現地球天氣的變化和大氣特徵。</td>\n",
       "      <td>[[[2053, 2226, 氣象衛星, 0]]]</td>\n",
       "    </tr>\n",
       "    <tr>\n",
       "      <th>2</th>\n",
       "      <td>7137</td>\n",
       "      <td>supports</td>\n",
       "      <td>在臺灣臺南市東區虎尾寮重劃區裏面的臺南市東區復興國民小學，旁邊有復興國民中學。</td>\n",
       "      <td>[[[6236, 6059, 臺南市東區復興國民小學, 0]]]</td>\n",
       "    </tr>\n",
       "  </tbody>\n",
       "</table>\n",
       "</div>"
      ],
      "text/plain": [
       "      id            label                                    claim  \\\n",
       "0  14301  NOT ENOUGH INFO       崔維斯·米勒是退役美國職業棒球大聯盟投手，目前于飛機擔任運動指導員。   \n",
       "1   2469         supports            氣象衛星是一種人造衛星，可以呈現地球天氣的變化和大氣特徵。   \n",
       "2   7137         supports  在臺灣臺南市東區虎尾寮重劃區裏面的臺南市東區復興國民小學，旁邊有復興國民中學。   \n",
       "\n",
       "                           evidence  \n",
       "0       [[13414, None, None, None]]  \n",
       "1         [[[2053, 2226, 氣象衛星, 0]]]  \n",
       "2  [[[6236, 6059, 臺南市東區復興國民小學, 0]]]  "
      ]
     },
     "execution_count": 8,
     "metadata": {},
     "output_type": "execute_result"
    }
   ],
   "source": [
    "train.head(3)"
   ]
  },
  {
   "cell_type": "code",
   "execution_count": 9,
   "id": "2ffcaaac",
   "metadata": {},
   "outputs": [
    {
     "data": {
      "text/html": [
       "<div>\n",
       "<style scoped>\n",
       "    .dataframe tbody tr th:only-of-type {\n",
       "        vertical-align: middle;\n",
       "    }\n",
       "\n",
       "    .dataframe tbody tr th {\n",
       "        vertical-align: top;\n",
       "    }\n",
       "\n",
       "    .dataframe thead th {\n",
       "        text-align: right;\n",
       "    }\n",
       "</style>\n",
       "<table border=\"1\" class=\"dataframe\">\n",
       "  <thead>\n",
       "    <tr style=\"text-align: right;\">\n",
       "      <th></th>\n",
       "      <th>Article</th>\n",
       "      <th>Text</th>\n",
       "    </tr>\n",
       "  </thead>\n",
       "  <tbody>\n",
       "    <tr>\n",
       "      <th>0</th>\n",
       "      <td>數學</td>\n",
       "      <td>[[0, '數學，是研究數量、結構以及空間等概念及其變化的一門學科，屬於形式科學的一種。']...</td>\n",
       "    </tr>\n",
       "    <tr>\n",
       "      <th>1</th>\n",
       "      <td>文學</td>\n",
       "      <td>[[0, '文學（literature），在狹義上，是一種語言藝術，亦即使用語言文字爲手段，...</td>\n",
       "    </tr>\n",
       "    <tr>\n",
       "      <th>2</th>\n",
       "      <td>哲學</td>\n",
       "      <td>[[0, '哲學（philosophy）是研究普遍的、基本問題的學科，包括存在、知識、價值、...</td>\n",
       "    </tr>\n",
       "  </tbody>\n",
       "</table>\n",
       "</div>"
      ],
      "text/plain": [
       "  Article                                               Text\n",
       "0      數學  [[0, '數學，是研究數量、結構以及空間等概念及其變化的一門學科，屬於形式科學的一種。']...\n",
       "1      文學  [[0, '文學（literature），在狹義上，是一種語言藝術，亦即使用語言文字爲手段，...\n",
       "2      哲學  [[0, '哲學（philosophy）是研究普遍的、基本問題的學科，包括存在、知識、價值、..."
      ]
     },
     "execution_count": 9,
     "metadata": {},
     "output_type": "execute_result"
    }
   ],
   "source": [
    "wiki.head(3)"
   ]
  },
  {
   "cell_type": "code",
   "execution_count": 10,
   "id": "72a75885",
   "metadata": {},
   "outputs": [],
   "source": [
    "claim = list(train['claim'])"
   ]
  },
  {
   "cell_type": "code",
   "execution_count": 11,
   "id": "225a9e34",
   "metadata": {},
   "outputs": [
    {
     "name": "stderr",
     "output_type": "stream",
     "text": [
      "100%|███████████████████████████████████████| 7678/7678 [19:01<00:00,  6.73it/s]\n"
     ]
    }
   ],
   "source": [
    "docs = []\n",
    "for sen in tqdm(claim):\n",
    "    docs.append([i[0] for i in BM25F(sen)[0:5]])\n",
    "#     docs.append([wiki['Article'][i[0]] for i in BM25F(sen)[0:5]])"
   ]
  },
  {
   "cell_type": "code",
   "execution_count": 17,
   "id": "82e40ef6",
   "metadata": {},
   "outputs": [],
   "source": [
    "# with open('./Doc_retrieval/train_BM25F_K12_L32.pickle', 'wb') as f:\n",
    "#     pickle.dump(docs, f)"
   ]
  },
  {
   "cell_type": "code",
   "execution_count": 24,
   "id": "c4e6d0b1",
   "metadata": {},
   "outputs": [],
   "source": [
    "# with open('./Data/train_high5_article_epoch50.pickle', 'rb') as f:\n",
    "#     data = pickle.load(f)"
   ]
  },
  {
   "cell_type": "code",
   "execution_count": 25,
   "id": "033b4ea8",
   "metadata": {},
   "outputs": [],
   "source": [
    "# uni = []\n",
    "# for i in range(len(data)):\n",
    "# #     uni += [list(set(docs[i]).union(data[i]))]\n",
    "#     tem = []\n",
    "#     for d in list(set(docs[i]).union(data[i])):\n",
    "#         if eval(wiki['Text'][d]) != []:\n",
    "#             tem.append(d)\n",
    "#     uni.append(tem)\n",
    "# docs = uni"
   ]
  },
  {
   "cell_type": "code",
   "execution_count": 19,
   "id": "714eef77",
   "metadata": {},
   "outputs": [],
   "source": [
    "df_j = train[['id', 'claim', 'label']]"
   ]
  },
  {
   "cell_type": "code",
   "execution_count": 20,
   "id": "c4906b6f",
   "metadata": {},
   "outputs": [],
   "source": [
    "'''\n",
    "0:supports\n",
    "1:refutes\n",
    "2:NOT ENOUGH INFO\n",
    "'''\n",
    "df_j.loc[df_j['label'] == 'supports', 'label' ] = 0\n",
    "df_j.loc[df_j['label'] == 'refutes', 'label' ] = 1\n",
    "df_j.loc[df_j['label'] == 'NOT ENOUGH INFO', 'label' ] = 2"
   ]
  },
  {
   "cell_type": "code",
   "execution_count": 21,
   "id": "9fbc94d8",
   "metadata": {},
   "outputs": [],
   "source": [
    "evidence = []\n",
    "for i in docs:\n",
    "    evs = []\n",
    "    for ev in i:\n",
    "        evs.append({ \"Article\":wiki['Article'][ev], \"Text\":eval(wiki['Text'][ev])})\n",
    "    evidence.append(dict(enumerate(evs)))"
   ]
  },
  {
   "cell_type": "code",
   "execution_count": 22,
   "id": "53db3695",
   "metadata": {},
   "outputs": [],
   "source": [
    "claim_data = df_j[['id', 'claim', 'label']].to_dict('records')"
   ]
  },
  {
   "cell_type": "code",
   "execution_count": 23,
   "id": "64541620",
   "metadata": {},
   "outputs": [],
   "source": [
    "for i in range(len(claim_data)):\n",
    "    claim_data[i].update({'evidence':evidence[i]})"
   ]
  },
  {
   "cell_type": "code",
   "execution_count": 24,
   "id": "692b327a",
   "metadata": {},
   "outputs": [],
   "source": [
    "with open(\"./Data/claim_train2_BM25F_v4.json\", \"w\", encoding='utf-8') as outfile:\n",
    "#     json.dump(claim_data, outfile, indent=4, ensure_ascii=False)\n",
    "    json.dump(claim_data, outfile, ensure_ascii=False)"
   ]
  },
  {
   "cell_type": "markdown",
   "id": "df7ce412",
   "metadata": {},
   "source": [
    "## Test"
   ]
  },
  {
   "cell_type": "code",
   "execution_count": 7,
   "id": "31f81f8e",
   "metadata": {},
   "outputs": [],
   "source": [
    "# test = pd.read_json(path_or_buf='./predict/public_test_data.jsonl', lines=True)\n",
    "test = pd.read_json(path_or_buf='./private/private_test_data.jsonl', lines=True)"
   ]
  },
  {
   "cell_type": "code",
   "execution_count": 8,
   "id": "87a3dbe3",
   "metadata": {},
   "outputs": [
    {
     "data": {
      "text/html": [
       "<div>\n",
       "<style scoped>\n",
       "    .dataframe tbody tr th:only-of-type {\n",
       "        vertical-align: middle;\n",
       "    }\n",
       "\n",
       "    .dataframe tbody tr th {\n",
       "        vertical-align: top;\n",
       "    }\n",
       "\n",
       "    .dataframe thead th {\n",
       "        text-align: right;\n",
       "    }\n",
       "</style>\n",
       "<table border=\"1\" class=\"dataframe\">\n",
       "  <thead>\n",
       "    <tr style=\"text-align: right;\">\n",
       "      <th></th>\n",
       "      <th>id</th>\n",
       "      <th>claim</th>\n",
       "    </tr>\n",
       "  </thead>\n",
       "  <tbody>\n",
       "    <tr>\n",
       "      <th>0</th>\n",
       "      <td>21498</td>\n",
       "      <td>雞形目的鳥腿腳強健，擅長在地面奔跑，其中有珍稀物種，體態雄健優美、顏色鮮豔；也有經濟物種，與...</td>\n",
       "    </tr>\n",
       "    <tr>\n",
       "      <th>1</th>\n",
       "      <td>13037</td>\n",
       "      <td>教會剛建立時為解決內部的一些問題，使徒們寫下許多便條，其中有八卷不是保羅寫的為大公書信。</td>\n",
       "    </tr>\n",
       "    <tr>\n",
       "      <th>2</th>\n",
       "      <td>18652</td>\n",
       "      <td>羅伯·昆蘭於明尼蘇達州聖保羅市出生。</td>\n",
       "    </tr>\n",
       "  </tbody>\n",
       "</table>\n",
       "</div>"
      ],
      "text/plain": [
       "      id                                              claim\n",
       "0  21498  雞形目的鳥腿腳強健，擅長在地面奔跑，其中有珍稀物種，體態雄健優美、顏色鮮豔；也有經濟物種，與...\n",
       "1  13037       教會剛建立時為解決內部的一些問題，使徒們寫下許多便條，其中有八卷不是保羅寫的為大公書信。\n",
       "2  18652                                 羅伯·昆蘭於明尼蘇達州聖保羅市出生。"
      ]
     },
     "execution_count": 8,
     "metadata": {},
     "output_type": "execute_result"
    }
   ],
   "source": [
    "test.head(3)"
   ]
  },
  {
   "cell_type": "code",
   "execution_count": 9,
   "id": "c7710aa9",
   "metadata": {},
   "outputs": [],
   "source": [
    "claim = list(test['claim'])"
   ]
  },
  {
   "cell_type": "code",
   "execution_count": null,
   "id": "43c8b487",
   "metadata": {},
   "outputs": [
    {
     "name": "stderr",
     "output_type": "stream",
     "text": [
      "  1%|▎                                        | 50/8049 [00:09<29:24,  4.53it/s]"
     ]
    }
   ],
   "source": [
    "docs = []\n",
    "for sen in tqdm(claim):\n",
    "    docs.append([i[0] for i in BM25F(sen)[0:5]])\n",
    "#     docs.append([wiki['Article'][i[0]] for i in BM25F(sen)[0:5]])"
   ]
  },
  {
   "cell_type": "code",
   "execution_count": 16,
   "id": "6d0dbfbd",
   "metadata": {},
   "outputs": [],
   "source": [
    "df_j = test\n",
    "df_j['label'] = 2"
   ]
  },
  {
   "cell_type": "code",
   "execution_count": 17,
   "id": "afec8b3b",
   "metadata": {},
   "outputs": [],
   "source": [
    "evidence = []\n",
    "for i in docs:\n",
    "    evs = []\n",
    "    if i == []:\n",
    "        evs.append({\"Article\":'None', \"Text\":[]})\n",
    "    else:\n",
    "        for ev in i:\n",
    "            evs.append({\"Article\":wiki['Article'][ev], \"Text\":eval(wiki['Text'][ev])})\n",
    "    evidence.append(dict(enumerate(evs)))"
   ]
  },
  {
   "cell_type": "code",
   "execution_count": 18,
   "id": "10ab6218",
   "metadata": {},
   "outputs": [],
   "source": [
    "claim_data = df_j[['id', 'claim', 'label']].to_dict('records')"
   ]
  },
  {
   "cell_type": "code",
   "execution_count": 19,
   "id": "054bd785",
   "metadata": {},
   "outputs": [],
   "source": [
    "for i in range(len(claim_data)):\n",
    "    claim_data[i].update({'evidence':evidence[i]})"
   ]
  },
  {
   "cell_type": "code",
   "execution_count": 20,
   "id": "786486c2",
   "metadata": {},
   "outputs": [],
   "source": [
    "with open(\"./Predict/claim_test_BM25F_v3.json\", \"w\", encoding='utf-8') as outfile:\n",
    "# with open(\"./Private/claim_private_test_BM25F_v3.json\", \"w\", encoding='utf-8') as outfile:\n",
    "#     json.dump(claim_data, outfile, indent=4, ensure_ascii=False)\n",
    "    json.dump(claim_data, outfile, ensure_ascii=False)"
   ]
  },
  {
   "cell_type": "markdown",
   "id": "bc4fb868",
   "metadata": {},
   "source": [
    "## Check"
   ]
  },
  {
   "cell_type": "code",
   "execution_count": 12,
   "id": "762e4462",
   "metadata": {},
   "outputs": [],
   "source": [
    "func = lambda x:[y for l in x for y in func(l)] if type(x)==list else [x]\n",
    "\n",
    "evidence = []\n",
    "for i in train['evidence']:\n",
    "    ev_title = []\n",
    "    evs = func(i)\n",
    "    for ev in evs:\n",
    "        if type(ev) == str:\n",
    "            ev_title.append(ev)\n",
    "    evidence.append(list(set(ev_title)))"
   ]
  },
  {
   "cell_type": "code",
   "execution_count": 16,
   "id": "d673b656",
   "metadata": {},
   "outputs": [],
   "source": [
    "docs2 = []\n",
    "for i in docs:\n",
    "    temp = []\n",
    "    for d in i:\n",
    "        a = wiki['Article'][d]\n",
    "        temp.append(a)\n",
    "    docs2.append(temp)"
   ]
  },
  {
   "cell_type": "code",
   "execution_count": 17,
   "id": "5674cf88",
   "metadata": {},
   "outputs": [],
   "source": [
    "not_catch = []\n",
    "for i in range(len(evidence)):\n",
    "    tem = []\n",
    "#     if train['label'][i] != 'NOT ENOUGH INFO':\n",
    "    for ev in evidence[i]:\n",
    "        if ev not in docs2[i]:\n",
    "            tem.append(ev)\n",
    "    not_catch.append(tem)"
   ]
  },
  {
   "cell_type": "code",
   "execution_count": 15,
   "id": "2981cf47",
   "metadata": {},
   "outputs": [
    {
     "data": {
      "text/plain": [
       "5131"
      ]
     },
     "execution_count": 15,
     "metadata": {},
     "output_type": "execute_result"
    }
   ],
   "source": [
    "a = 0\n",
    "for i in train['label']:\n",
    "    if i != 'NOT ENOUGH INFO':\n",
    "        a += 1\n",
    "a"
   ]
  },
  {
   "cell_type": "code",
   "execution_count": 16,
   "id": "988e8f66",
   "metadata": {},
   "outputs": [
    {
     "name": "stdout",
     "output_type": "stream",
     "text": [
      "0.9056714090820502\n"
     ]
    }
   ],
   "source": [
    "b = 0\n",
    "for i in not_catch:\n",
    "    if i == []:\n",
    "        b+=1\n",
    "print(b/a)"
   ]
  },
  {
   "cell_type": "code",
   "execution_count": 17,
   "id": "db1d60a5",
   "metadata": {},
   "outputs": [],
   "source": [
    "check = test[['claim']]"
   ]
  },
  {
   "cell_type": "code",
   "execution_count": 30,
   "id": "90366bd2",
   "metadata": {},
   "outputs": [],
   "source": [
    "check['evi'] = evidence\n",
    "check['notcatch'] = not_catch"
   ]
  },
  {
   "cell_type": "code",
   "execution_count": 18,
   "id": "86a0088d",
   "metadata": {},
   "outputs": [],
   "source": [
    "check['v3'] = docs2"
   ]
  },
  {
   "cell_type": "code",
   "execution_count": 19,
   "id": "0f7d6155",
   "metadata": {},
   "outputs": [],
   "source": [
    "check.to_csv('check.csv', index=False )"
   ]
  },
  {
   "cell_type": "code",
   "execution_count": null,
   "id": "b95c19f3",
   "metadata": {},
   "outputs": [],
   "source": []
  }
 ],
 "metadata": {
  "kernelspec": {
   "display_name": "Python 3 (ipykernel)",
   "language": "python",
   "name": "python3"
  },
  "language_info": {
   "codemirror_mode": {
    "name": "ipython",
    "version": 3
   },
   "file_extension": ".py",
   "mimetype": "text/x-python",
   "name": "python",
   "nbconvert_exporter": "python",
   "pygments_lexer": "ipython3",
   "version": "3.7.10"
  }
 },
 "nbformat": 4,
 "nbformat_minor": 5
}

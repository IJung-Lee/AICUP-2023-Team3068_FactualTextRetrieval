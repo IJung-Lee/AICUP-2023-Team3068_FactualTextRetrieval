{
 "cells": [
  {
   "cell_type": "code",
   "execution_count": 1,
   "id": "3961ee52",
   "metadata": {},
   "outputs": [],
   "source": [
    "import json\n",
    "import pickle\n",
    "import pandas as pd\n",
    "from tqdm import tqdm\n",
    "\n",
    "import warnings\n",
    "warnings.filterwarnings('ignore')"
   ]
  },
  {
   "cell_type": "code",
   "execution_count": 2,
   "id": "9bb55c10",
   "metadata": {},
   "outputs": [],
   "source": [
    "def load_json(file_path):\n",
    "    with open(file_path, \"r\", encoding=\"utf-8\") as json_file:\n",
    "        json_list = list(json_file)\n",
    "    return [json.loads(json_str) for json_str in json_list]"
   ]
  },
  {
   "cell_type": "code",
   "execution_count": 3,
   "id": "4e628d83",
   "metadata": {},
   "outputs": [],
   "source": [
    "'''Private'''\n",
    "with open('./Predict/all_prediction_0511SBDA50e0519_epoch16_BM25Fv3ALL_r_0530.pickle', 'rb') as f:\n",
    "    predict = pickle.load(f)\n",
    "submit = pd.read_json(path_or_buf='./Private/public_private_submission_template.jsonl', lines=True)\n",
    "evidence = load_json('./Predict/semanticRes_0511SBDA50e0519_BM25Fv3ALL_0530.jsonl')\n",
    "evidence = evidence[11620:]"
   ]
  },
  {
   "cell_type": "code",
   "execution_count": 4,
   "id": "d1fa9f66",
   "metadata": {},
   "outputs": [],
   "source": [
    "predict = [int(l) for l in list(predict)]\n",
    "\n",
    "label = []\n",
    "for i in predict: \n",
    "    if i == 0:\n",
    "        label.append('supports')\n",
    "    if i == 1:\n",
    "        label.append('refutes')\n",
    "    if i == 2:\n",
    "        label.append('NOT ENOUGH INFO')"
   ]
  },
  {
   "cell_type": "code",
   "execution_count": 5,
   "id": "c159ba00",
   "metadata": {},
   "outputs": [
    {
     "data": {
      "text/plain": [
       "[['None', [259, 'None', 'None']]]"
      ]
     },
     "execution_count": 5,
     "metadata": {},
     "output_type": "execute_result"
    }
   ],
   "source": [
    "evidence[836] = [['', [259, '', ]]]\n",
    "evidence[836]"
   ]
  },
  {
   "cell_type": "code",
   "execution_count": 6,
   "id": "f4f08383",
   "metadata": {},
   "outputs": [
    {
     "name": "stderr",
     "output_type": "stream",
     "text": [
      "100%|███████████████████████████████████| 9038/9038 [00:00<00:00, 112730.19it/s]\n"
     ]
    }
   ],
   "source": [
    "evl = {}\n",
    "num = 0\n",
    "for i in tqdm(range(len(evidence))):\n",
    "    tem = []\n",
    "    for ev in evidence[i]:\n",
    "        tem.append(ev[1][1:])\n",
    "        idd = ev[1][0]\n",
    "    evl[idd] = (label[i], tem)"
   ]
  },
  {
   "cell_type": "code",
   "execution_count": 7,
   "id": "1a8479f9",
   "metadata": {},
   "outputs": [],
   "source": [
    "data = [value for key, value in sorted(evl.items())]"
   ]
  },
  {
   "cell_type": "code",
   "execution_count": 8,
   "id": "8a0eb9a9",
   "metadata": {},
   "outputs": [],
   "source": [
    "ls = [l for l, e in data]\n",
    "es = [e for l, e in data]"
   ]
  },
  {
   "cell_type": "code",
   "execution_count": 9,
   "id": "806862f3",
   "metadata": {},
   "outputs": [],
   "source": [
    "submit['predicted_label'] = ls\n",
    "submit['predicted_evidence'] = es"
   ]
  },
  {
   "cell_type": "code",
   "execution_count": 10,
   "id": "9a9aa098",
   "metadata": {},
   "outputs": [],
   "source": [
    "for i in range(len(submit)):\n",
    "    if submit['predicted_label'][i] == 'NOT ENOUGH INFO':\n",
    "        submit['predicted_evidence'][i] = None\n",
    "    if submit['predicted_evidence'][i] == [[\"None\", \"None\"]]:\n",
    "        submit['predicted_label'][i] = 'NOT ENOUGH INFO'\n",
    "        submit['predicted_evidence'][i] = None"
   ]
  },
  {
   "cell_type": "code",
   "execution_count": 11,
   "id": "854dc190",
   "metadata": {},
   "outputs": [],
   "source": [
    "data = submit.to_dict('index')"
   ]
  },
  {
   "cell_type": "code",
   "execution_count": 12,
   "id": "9b34088c",
   "metadata": {},
   "outputs": [],
   "source": [
    "data = [x for x in data.values()]"
   ]
  },
  {
   "cell_type": "code",
   "execution_count": 13,
   "id": "170cf81d",
   "metadata": {},
   "outputs": [],
   "source": [
    "with open(f\"./Private/Predict_data.jsonl\", \"w\", encoding=\"utf8\") as f:\n",
    "    for i in data:\n",
    "        f.write(json.dumps(i, ensure_ascii=False) + \"\\n\")"
   ]
  },
  {
   "cell_type": "code",
   "execution_count": null,
   "id": "0db35665",
   "metadata": {},
   "outputs": [],
   "source": []
  }
 ],
 "metadata": {
  "kernelspec": {
   "display_name": "Python 3 (ipykernel)",
   "language": "python",
   "name": "python3"
  },
  "language_info": {
   "codemirror_mode": {
    "name": "ipython",
    "version": 3
   },
   "file_extension": ".py",
   "mimetype": "text/x-python",
   "name": "python",
   "nbconvert_exporter": "python",
   "pygments_lexer": "ipython3",
   "version": "3.7.10"
  }
 },
 "nbformat": 4,
 "nbformat_minor": 5
}

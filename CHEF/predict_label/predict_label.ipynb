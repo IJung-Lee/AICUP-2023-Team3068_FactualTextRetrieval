{
 "cells": [
  {
   "cell_type": "code",
   "execution_count": null,
   "id": "2dc033a5",
   "metadata": {},
   "outputs": [],
   "source": [
    "import torch\n",
    "from transformers import AdamW, AutoTokenizer, AutoModelForSequenceClassification, BertTokenizer, BertConfig, BertForSequenceClassification, BertPreTrainedModel, BertModel\n",
    "import json\n",
    "from torch.utils.data import TensorDataset, random_split, Subset\n",
    "from torch.utils.data import DataLoader, RandomSampler, SequentialSampler\n",
    "from transformers import TrainingArguments, Trainer\n",
    "from torch import nn\n",
    "import torch.nn.functional as F\n",
    "from transformers import get_linear_schedule_with_warmup\n",
    "from sklearn.metrics import f1_score, precision_recall_fscore_support\n",
    "import pickle\n",
    "import time\n",
    "import numpy as np\n",
    "import os\n",
    "from collections import Counter\n",
    "import datetime\n",
    "os.environ['CUDA_LAUNCH_BLOCKING'] = \"1\"\n",
    "device = 'cuda'"
   ]
  },
  {
   "cell_type": "code",
   "execution_count": 4,
   "id": "aa51102d",
   "metadata": {
    "scrolled": true
   },
   "outputs": [],
   "source": [
    "test = json.load(open('..\\Sentence_retrieval_result\\CHEF_wiki_train_0511SBDA50e0519_BM25Fv3ALL_0607.json', 'r', encoding='utf-8'))\n",
    "test = test[11620:]\n",
    "labels_ = [row['label'] for row in test]\n",
    "sentence = json.load(open('..\\Sentence_retrieval_result\\CHEF_wiki_train_0511SBDA50e0519_BM25Fv3ALL_0607.json', 'r', encoding='utf-8'))\n",
    "sentence = sentence[11620:]"
   ]
  },
  {
   "cell_type": "code",
   "execution_count": null,
   "id": "55c28735",
   "metadata": {
    "scrolled": true
   },
   "outputs": [],
   "source": [
    "# 放入 /CHEF/Predict model_training/predict model 下的資料夾\n",
    "model_state_dict = torch.load('', map_location=torch.device('cuda'))\n",
    "# 放入 /sbert/model 下的資料夾\n",
    "model = BertForSequenceClassification.from_pretrained('', state_dict=model_state_dict, num_labels=3,output_attentions = False,output_hidden_states = False)\n",
    "model.to(device)\n",
    "tokenizer = BertTokenizer.from_pretrained('')"
   ]
  },
  {
   "cell_type": "code",
   "execution_count": null,
   "id": "fc870822",
   "metadata": {},
   "outputs": [],
   "source": [
    "input_ids = []\n",
    "attention_masks = []\n",
    "labels = []\n",
    "for i in range(len(sentence)):\n",
    "    encoded_dict = tokenizer.encode_plus(\n",
    "        sentence[i],  # Sentence to encode.\n",
    "        add_special_tokens=False,  # Add '[CLS]' and '[SEP]'\n",
    "        max_length= 512,  # Pad & truncate all sentences.\n",
    "        padding='max_length',\n",
    "        return_attention_mask=True,  # Construct attn. masks.\n",
    "        return_tensors='pt',  # Return pytorch tensors.\n",
    "        truncation=True\n",
    "    )\n",
    "    # Add the encoded sentence to the list.\n",
    "    input_ids.append(encoded_dict['input_ids'])\n",
    "    # And its attention mask (simply differentiates padding from non-padding).\n",
    "    attention_masks.append(encoded_dict['attention_mask'])\n",
    "    #labels.append(2)\n",
    "    labels.append(labels_[i])"
   ]
  },
  {
   "cell_type": "code",
   "execution_count": null,
   "id": "234361be",
   "metadata": {},
   "outputs": [],
   "source": [
    "input_ids = torch.cat(input_ids, dim=0).to(device)\n",
    "attention_masks = torch.cat(attention_masks, dim=0).to(device)\n",
    "labels = torch.tensor(labels, device='cuda')\n",
    "test_dataset = TensorDataset(input_ids, attention_masks,labels)\n",
    "test_dataloader = DataLoader(\n",
    "        test_dataset,\n",
    "        sampler=SequentialSampler(test_dataset),   \n",
    "        batch_size=8 \n",
    "    )"
   ]
  },
  {
   "cell_type": "code",
   "execution_count": null,
   "id": "20770118",
   "metadata": {},
   "outputs": [],
   "source": [
    "def format_time(elapsed):\n",
    "    elapsed_rounded = int(round((elapsed)))\n",
    "    # Format as hh:mm:ss\n",
    "    return str(datetime.timedelta(seconds=elapsed_rounded))"
   ]
  },
  {
   "cell_type": "code",
   "execution_count": null,
   "id": "b0096de2",
   "metadata": {
    "scrolled": true
   },
   "outputs": [],
   "source": [
    "best_microf1 = 0\n",
    "best_macrof1 = 0\n",
    "best_recall = 0\n",
    "best_precision = 0\n",
    "best_prediction = None\n",
    "best_ground_truth = None\n",
    "t0 = time.time()\n",
    "# Put the model in evaluation mode\n",
    "#model.forward()\n",
    "model.eval()\n",
    "print(\"Running Validation...\")\n",
    "# Tracking variables\n",
    "total_eval_accuracy = 0\n",
    "total_eval_loss = 0\n",
    "nb_eval_steps = 0\n",
    "all_prediction = np.array([])\n",
    "all_ground_truth = np.array([])\n",
    "all_logits = np.array([])\n",
    "# Evaluate data for one epoch\n",
    "for batch in test_dataloader:\n",
    "    # Unpack this training batch from our dataloader.\n",
    "    b_input_ids = batch[0].to(device)\n",
    "    b_input_mask = batch[1].to(device)\n",
    "    b_labels = batch[2].to(device)\n",
    "    with torch.no_grad():\n",
    "        outputs = model(\n",
    "            b_input_ids, \n",
    "            token_type_ids=None, \n",
    "            attention_mask=b_input_mask,\n",
    "            labels=b_labels\n",
    "        )\n",
    "        loss, logits = outputs[0], outputs[1]\n",
    "    # Accumulate the validation loss.\n",
    "    total_eval_loss += loss.sum().item()\n",
    "    # Move logits and labels to CPU\n",
    "    logits = logits.detach().cpu().numpy()\n",
    "    label_ids = b_labels.to('cpu').numpy()\n",
    "\n",
    "    pred_flat = np.argmax(logits, axis=1).flatten()\n",
    "    labels_flat = label_ids.flatten()\n",
    "    all_prediction = np.concatenate((all_prediction, pred_flat), axis=None)\n",
    "    all_ground_truth = np.concatenate((all_ground_truth, labels_flat), axis=None)\n",
    "    if len(all_logits) == 0:\n",
    "        all_logits = logits\n",
    "    else:\n",
    "        all_logits = np.concatenate((all_logits, logits), axis=0)\n",
    "\n",
    "# Calculate the average loss over all of the batches.\n",
    "avg_val_loss = total_eval_loss / len(test_dataloader)\n",
    "# Measure how long the validation run took.\n",
    "validation_time = format_time(time.time() - t0)\n",
    "print('Validation Elapsed: {:}.'.format(validation_time))\n",
    "c = Counter()\n",
    "for pred in all_prediction:\n",
    "    c[int(pred)] += 1\n",
    "print(c)\n",
    "pre, recall, f1, _ = precision_recall_fscore_support(all_ground_truth, all_prediction, average='micro')\n",
    "print(\"       F1 (micro): {:.2%}\".format(f1))\n",
    "microf1 = f1\n",
    "pre, recall, f1, _ = precision_recall_fscore_support(all_ground_truth, all_prediction, average='macro')\n",
    "print(\"Precision (macro): {:.2%}\".format(pre))\n",
    "print(\"   Recall (macro): {:.2%}\".format(recall))\n",
    "print(\"       F1 (macro): {:.2%}\".format(f1))"
   ]
  },
  {
   "cell_type": "code",
   "execution_count": null,
   "id": "b24c985b",
   "metadata": {},
   "outputs": [],
   "source": [
    "# 放入 \\CHEF\\predict_label\\predict_result 下的資料夾\n",
    "with open('.\\CHEF\\predict_label\\predict_result\\all_prediction_0511SBDA50e0519_epoch16_BM25Fv3ALL_r_0530.pickle', 'wb') as f:\n",
    "    pickle.dump(all_prediction, f)"
   ]
  },
  {
   "cell_type": "code",
   "execution_count": null,
   "id": "08061c53",
   "metadata": {
    "scrolled": false
   },
   "outputs": [],
   "source": [
    "all_prediction"
   ]
  }
 ],
 "metadata": {
  "kernelspec": {
   "display_name": "Python 3 (ipykernel)",
   "language": "python",
   "name": "python3"
  },
  "language_info": {
   "codemirror_mode": {
    "name": "ipython",
    "version": 3
   },
   "file_extension": ".py",
   "mimetype": "text/x-python",
   "name": "python",
   "nbconvert_exporter": "python",
   "pygments_lexer": "ipython3",
   "version": "3.8.16"
  }
 },
 "nbformat": 4,
 "nbformat_minor": 5
}
